{
 "cells": [
  {
   "cell_type": "markdown",
   "metadata": {},
   "source": [
    "# MESA model plotting examples\n",
    "\n",
    "For this coursework, we are using a pre-computed MESA model grid from: \n",
    "\n",
    "http://waps.cfa.harvard.edu/MIST/\n",
    "\n",
    "This notebook provides examples of how to read input from this model grid and produce some basic plots in python."
   ]
  },
  {
   "cell_type": "markdown",
   "metadata": {},
   "source": [
    "First, import a number of important modules:"
   ]
  },
  {
   "cell_type": "code",
   "execution_count": null,
   "metadata": {},
   "outputs": [],
   "source": [
    "# import necessary modules\n",
    "from __future__ import print_function\n",
    "%matplotlib inline\n",
    "import read_mist_models\n",
    "import numpy as np\n",
    "import matplotlib.pyplot as plt\n",
    "\n",
    "from pylab import rcParams"
   ]
  },
  {
   "cell_type": "markdown",
   "metadata": {},
   "source": [
    "Next read in a stellar iso-mass track. The *.eep file traces the evolution of a single star over the course of its lifetime."
   ]
  },
  {
   "cell_type": "code",
   "execution_count": null,
   "metadata": {},
   "outputs": [],
   "source": [
    "# read in a 1 solar mass model track (all model tracks will be in the PHYS10045 folder)\n",
    "\n",
    "eep1 = read_mist_models.EEP('00100M.track.eep')\n"
   ]
  },
  {
   "cell_type": "markdown",
   "metadata": {},
   "source": [
    "Print out useful information about a track, including the available columns:"
   ]
  },
  {
   "cell_type": "code",
   "execution_count": null,
   "metadata": {},
   "outputs": [],
   "source": [
    "# print out some useful information about the track\n",
    "\n",
    "print('version: ', eep1.version)\n",
    "print('abundances: ', eep1.abun)\n",
    "print('rotation: ', eep1.rot)\n",
    "print('initial mass: ', eep1.minit)\n",
    "print('available columns: ', eep1.hdr_list)\n"
   ]
  },
  {
   "cell_type": "markdown",
   "metadata": {},
   "source": [
    "You can select different columns from the *.eep file and plot them against each other. Here's an example plotting central abundances as a function of stellar age."
   ]
  },
  {
   "cell_type": "code",
   "execution_count": null,
   "metadata": {},
   "outputs": [],
   "source": [
    "# plot center abundances as a function of stellar age\n",
    "\n",
    "rcParams.update({'font.size': 22})  # this sets the fontsize in your plot to a reasonable value\n",
    "\n",
    "star_age = eep1.eeps['star_age']\n",
    "center_h1 = eep1.eeps['center_h1']\n",
    "center_he4 = eep1.eeps['center_he4']\n",
    "center_c12 = eep1.eeps['center_c12']\n",
    "star_phase = eep1.eeps['phase']\n",
    "plt.plot(star_age, center_h1, label='H1')\n",
    "plt.plot(star_age, center_he4, label='He4')\n",
    "plt.plot(star_age, center_c12, label='C12')\n",
    "plt.xlabel('Star Age', fontsize=30)\n",
    "plt.ylabel('Mass Fraction', fontsize=30)\n",
    "plt.axis([1e7, 1.5e10, 1e-6, 3])\n",
    "\n",
    "plt.xscale('log')\n",
    "plt.yscale('log')\n",
    "leg = plt.legend(loc=3, fontsize=16)\n",
    "leg.draw_frame(False)\n",
    "\n"
   ]
  }
 ],
 "metadata": {
  "kernelspec": {
   "display_name": "Python 3 (ipykernel)",
   "language": "python",
   "name": "python3"
  },
  "language_info": {
   "codemirror_mode": {
    "name": "ipython",
    "version": 3
   },
   "file_extension": ".py",
   "mimetype": "text/x-python",
   "name": "python",
   "nbconvert_exporter": "python",
   "pygments_lexer": "ipython3",
   "version": "3.12.11"
  }
 },
 "nbformat": 4,
 "nbformat_minor": 1
}
